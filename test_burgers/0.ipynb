{
 "cells": [
  {
   "cell_type": "code",
   "execution_count": 5,
   "metadata": {},
   "outputs": [
    {
     "name": "stdout",
     "output_type": "stream",
     "text": [
      "['k = 0e+00', 0.029509790480136872, 0.0065525687262415885, 0.0029571349434554576, 0.0027069296315312386, 0.002957996502518654, 0.00687587708234787, 0.031042497903108597, 'k = 1e+00', 0.028141517639160157, 0.006235783725976944, 0.002831818051636219, 0.002703646693378687, 0.002960600312799215, 0.006443670198321342, 0.02989829531311989, 'k = 1e+01', 0.012376388266682624, 0.0037307019010186194, 0.0032104594483971594, 0.0031894224397838117, 0.0031422314047813414, 0.00371440589427948, 0.012049965977668763, 'k = 1e+02', 0.005566533289849758, 0.003937550462782383, 0.004244038019329309, 0.004242391221225262, 0.0041640976518392565, 0.003806102976202965, 0.004852191731333733]\n"
     ]
    }
   ],
   "source": [
    "input_str = input().split()\n",
    "# print(input_str)\n",
    "n = len(input_str)\n",
    "rel_test_loss=[]\n",
    "for i in range(n):\n",
    "    if input_str[i]=='Rel.':\n",
    "        rel_test_loss.append(float(input_str[i+5]))\n",
    "    if input_str[i]=='train_k:':\n",
    "        rel_test_loss.append('k = ' + input_str[i+1])\n",
    "print(rel_test_loss)"
   ]
  }
 ],
 "metadata": {
  "kernelspec": {
   "display_name": "pytorch",
   "language": "python",
   "name": "python3"
  },
  "language_info": {
   "codemirror_mode": {
    "name": "ipython",
    "version": 3
   },
   "file_extension": ".py",
   "mimetype": "text/x-python",
   "name": "python",
   "nbconvert_exporter": "python",
   "pygments_lexer": "ipython3",
   "version": "3.10.14"
  }
 },
 "nbformat": 4,
 "nbformat_minor": 2
}
