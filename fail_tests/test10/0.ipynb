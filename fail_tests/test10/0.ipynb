{
 "cells": [
  {
   "cell_type": "code",
   "execution_count": 19,
   "metadata": {},
   "outputs": [
    {
     "name": "stdout",
     "output_type": "stream",
     "text": [
      "tensor(True) tensor(False) torch.Size([1])\n",
      "torch.Size([1])\n"
     ]
    }
   ],
   "source": [
    "import torch\n",
    "import numpy as np\n",
    "# pca_data = torch.rand(3,6)\n",
    "# print(pca_data)\n",
    "# k_max = 5\n",
    "# U, S, VT = np.linalg.svd(pca_data.T)\n",
    "# print(U.shape,S.shape,VT.shape)\n",
    "\n",
    "# # print(U)\n",
    "# # print(np.dot(U,U.T))\n",
    "# fbases = U[:, 0:k_max]\n",
    "# print(fbases.shape)\n",
    "tensor = torch.rand(1,3)\n",
    "a = torch.tensor([0])\n",
    "print(tensor.any(),a.any(),a.shape)\n",
    "a = torch.zeros(1)\n",
    "print(a.shape)"
   ]
  }
 ],
 "metadata": {
  "kernelspec": {
   "display_name": "pytorch",
   "language": "python",
   "name": "python3"
  },
  "language_info": {
   "codemirror_mode": {
    "name": "ipython",
    "version": 3
   },
   "file_extension": ".py",
   "mimetype": "text/x-python",
   "name": "python",
   "nbconvert_exporter": "python",
   "pygments_lexer": "ipython3",
   "version": "3.10.14"
  }
 },
 "nbformat": 4,
 "nbformat_minor": 2
}
