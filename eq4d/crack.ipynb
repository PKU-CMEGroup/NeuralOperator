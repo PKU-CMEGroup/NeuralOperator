{
 "cells": [
  {
   "cell_type": "code",
   "execution_count": 1,
   "metadata": {},
   "outputs": [],
   "source": [
    "import random\n",
    "import torch\n",
    "import sys\n",
    "import numpy as np\n",
    "import math\n",
    "import matplotlib.pyplot as plt\n",
    "import scipy.io as sio\n",
    "from mpl_toolkits import mplot3d\n",
    "import matplotlib.pyplot as plt\n",
    "\n",
    "from timeit import default_timer\n",
    "\n",
    "sys.path.append('../')\n",
    "from models import FNN_train, FNN_cost, count_params, UnitGaussianNormalizer, LpLoss"
   ]
  },
  {
   "cell_type": "markdown",
   "metadata": {},
   "source": [
    "# Load fracture problem dataset\n",
    "\n",
    "A total of 181 samples are divided into 3 mat files. In this problem, we will be mapping the initial condition to the growth of the crack. \n",
    "The initial condition is phi(:,0) for all the samples. The space is defined using 34 x 34 x 34 points in space. The coordinates of these points are in \"coordinates.mat\".\n",
    "The evolution is mapped using 16 steps which can be considered equally spaced between (0,1]. In each of the dataset.mat, you could take phi(:,0) as the initial condition and then map it to phi(:,1:end). The parameter phi denotes the crack evolution. In case we also want to do the elastic fields, we could map phi(:,0) \\rightarraow [u(:,1:end), v(:,1:end), w(:,1:end), phi(:,1:end)].\n"
   ]
  },
  {
   "cell_type": "code",
   "execution_count": 2,
   "metadata": {},
   "outputs": [],
   "source": [
    "pref = \"../../../data/crack/\"\n",
    "dataset1 = sio.loadmat(pref + \"dataset_uniform1.mat\")\n",
    "dataset2 = sio.loadmat(pref + \"dataset_uniform2.mat\")\n",
    "dataset3 = sio.loadmat(pref + \"dataset_uniform3.mat\")\n",
    "\n",
    "nq = 41\n",
    "xx = np.linspace(-0.1, 0.1, nq)\n",
    "yy = np.linspace(-0.1, 0.1, nq)\n",
    "zz = np.linspace(-0.1, 0.1, nq)\n",
    "[yq,xq,zq] = np.meshgrid(xx,yy,zz)\n"
   ]
  },
  {
   "cell_type": "code",
   "execution_count": 3,
   "metadata": {},
   "outputs": [],
   "source": [
    "FNO_dim = 4"
   ]
  },
  {
   "cell_type": "code",
   "execution_count": 4,
   "metadata": {},
   "outputs": [],
   "source": [
    "phi = np.vstack((dataset1[\"phi_uniform\"], dataset2[\"phi_uniform\"], dataset3[\"phi_uniform\"]))\n",
    "ndata = phi.shape[0]\n",
    "T = 1.0\n",
    "nt = phi.shape[2]\n",
    "phi_data = phi.reshape((ndata, nq, nq, nq, nt), order=\"F\")\n",
    "\n",
    "coord_data  = np.zeros((nq, nq, nq, nt, 4),  dtype=\"float64\")\n",
    "for i in range(nt):\n",
    "    coord_data[:,:,:,i,0] = xq\n",
    "    coord_data[:,:,:,i,1] = yq\n",
    "    coord_data[:,:,:,i,2] = zq\n",
    "    coord_data[:,:,:,i,3] = i/nt * T\n",
    "    \n",
    "\n",
    "if FNO_dim == 3:\n",
    "    input_data = np.concatenate((phi_data[:, :, :, :, 0:1], np.tile(coord_data[:, :, :, 0, 0:3], (ndata,1,1,1,1))), axis=-1)\n",
    "    output_data = phi_data[:, :, :, :, nt-1:nt]\n",
    "elif FNO_dim == 4:\n",
    "    input_data = np.concatenate((np.tile(phi_data[:, :, :, :, 0:1], (1,1,1,1,nt-1))[..., np.newaxis], np.tile(coord_data[:, :, :, 1:nt, :], (ndata,1,1,1,1,1))), axis=-1)\n",
    "    output_data = phi_data[:, :, :, :, 1:nt, np.newaxis]\n",
    "  "
   ]
  },
  {
   "cell_type": "markdown",
   "metadata": {},
   "source": [
    "# FNO training"
   ]
  },
  {
   "cell_type": "code",
   "execution_count": 5,
   "metadata": {},
   "outputs": [],
   "source": [
    "torch.manual_seed(0)\n",
    "np.random.seed(0)\n",
    "\n",
    "\n",
    "n_train = 160\n",
    "n_test = 21\n",
    "x_train = torch.from_numpy(input_data[0:n_train, ...].astype(np.float32))\n",
    "y_train = torch.from_numpy(output_data[0:n_train, ...].astype(np.float32))\n",
    "x_test = torch.from_numpy(input_data[-n_test:, ...].astype(np.float32))\n",
    "y_test = torch.from_numpy(output_data[-n_test:, ...].astype(np.float32))\n",
    "\n"
   ]
  },
  {
   "cell_type": "code",
   "execution_count": 6,
   "metadata": {},
   "outputs": [],
   "source": [
    "n_fno_layers = 3\n",
    "k_max = 12\n",
    "d_f = 32\n",
    "# fourier k_max\n",
    "modes = [k_max] * n_fno_layers\n",
    "modes4 = [6] * n_fno_layers\n",
    "# channel d_f\n",
    "layers = [d_f] * (n_fno_layers + 1)\n",
    "fc_dim = d_f\n",
    "in_dim = 1 + FNO_dim\n",
    "out_dim = 1\n",
    "act = \"gelu\"\n",
    "\n",
    "base_lr = 0.001\n",
    "epochs = 1000\n",
    "# scheduler = \"CosineAnnealingLR\"\n",
    "weight_decay = 1e-4\n",
    "\n",
    "scheduler = \"MultiStepLR\"\n",
    "\n",
    "pad_ratio = 0.05\n",
    "\n",
    "milestones = [200, 300, 400, 500, 800, 900]\n",
    "scheduler_gamma = 0.5\n",
    "batch_size=2\n",
    "normalization_x = True\n",
    "normalization_y = True\n",
    "normalization_dim = []\n",
    "\n",
    "\n",
    "config = {\"model\" : {\"modes\": modes, \"modes4\": modes4, \"fc_dim\": fc_dim, \"layers\": layers, \"in_dim\": in_dim, \"out_dim\":out_dim, \"act\": act, \"pad_ratio\":pad_ratio},\n",
    "          \"train\" : {\"base_lr\": base_lr, \"weight_decay\": weight_decay, \"epochs\": epochs, \"scheduler\": scheduler, \"milestones\": milestones, \"scheduler_gamma\": scheduler_gamma, \"batch_size\": batch_size, \n",
    "                    \"normalization_x\": normalization_x,\"normalization_y\": normalization_y, \"normalization_dim\": normalization_dim}}\n",
    "\n",
    "\n"
   ]
  },
  {
   "cell_type": "code",
   "execution_count": 10,
   "metadata": {},
   "outputs": [
    {
     "name": "stdout",
     "output_type": "stream",
     "text": [
      "Epoch :  0  Rel. Train L2 Loss :  0.3058393567800522  Rel. Test L2 Loss :  0.1575937093723388  Test L2 Loss :  0.028227337325612705\n"
     ]
    },
    {
     "ename": "KeyboardInterrupt",
     "evalue": "",
     "output_type": "error",
     "traceback": [
      "\u001b[0;31m---------------------------------------------------------------------------\u001b[0m",
      "\u001b[0;31mKeyboardInterrupt\u001b[0m                         Traceback (most recent call last)",
      "Cell \u001b[0;32mIn[10], line 2\u001b[0m\n\u001b[1;32m      1\u001b[0m start \u001b[38;5;241m=\u001b[39m default_timer()\n\u001b[0;32m----> 2\u001b[0m train_rel_l2_losses, test_rel_l2_losses, test_l2_losses, cost \u001b[38;5;241m=\u001b[39m FNN_train(x_train, y_train, x_test, y_test, config, save_model_name\u001b[38;5;241m=\u001b[39m\u001b[38;5;124m\"\u001b[39m\u001b[38;5;124mmodels/FNO_crack_dim\u001b[39m\u001b[38;5;124m\"\u001b[39m\u001b[38;5;241m+\u001b[39m\u001b[38;5;28mstr\u001b[39m(FNO_dim))\n\u001b[1;32m      3\u001b[0m end \u001b[38;5;241m=\u001b[39m default_timer()\n\u001b[1;32m      4\u001b[0m \u001b[38;5;28mprint\u001b[39m(\u001b[38;5;124m\"\u001b[39m\u001b[38;5;124mepochs = \u001b[39m\u001b[38;5;124m\"\u001b[39m, epochs, \u001b[38;5;124m\"\u001b[39m\u001b[38;5;124melapsed time = \u001b[39m\u001b[38;5;124m\"\u001b[39m, end \u001b[38;5;241m-\u001b[39m start)\n",
      "File \u001b[0;32m~/Desktop/Code/NeuralOperator/eq4d/../models/train.py:177\u001b[0m, in \u001b[0;36mFNN_train\u001b[0;34m(x_train, y_train, x_test, y_test, config, save_model_name)\u001b[0m\n\u001b[1;32m    174\u001b[0m     y \u001b[38;5;241m=\u001b[39m y_normalizer\u001b[38;5;241m.\u001b[39mdecode(y)\n\u001b[1;32m    176\u001b[0m loss \u001b[38;5;241m=\u001b[39m myloss(out\u001b[38;5;241m.\u001b[39mview(batch_size_,\u001b[38;5;241m-\u001b[39m\u001b[38;5;241m1\u001b[39m), y\u001b[38;5;241m.\u001b[39mview(batch_size_,\u001b[38;5;241m-\u001b[39m\u001b[38;5;241m1\u001b[39m))\n\u001b[0;32m--> 177\u001b[0m loss\u001b[38;5;241m.\u001b[39mbackward()\n\u001b[1;32m    179\u001b[0m optimizer\u001b[38;5;241m.\u001b[39mstep()\n\u001b[1;32m    180\u001b[0m train_rel_l2 \u001b[38;5;241m+\u001b[39m\u001b[38;5;241m=\u001b[39m loss\u001b[38;5;241m.\u001b[39mitem()\n",
      "File \u001b[0;32m~/anaconda3/lib/python3.11/site-packages/torch/_tensor.py:487\u001b[0m, in \u001b[0;36mTensor.backward\u001b[0;34m(self, gradient, retain_graph, create_graph, inputs)\u001b[0m\n\u001b[1;32m    477\u001b[0m \u001b[38;5;28;01mif\u001b[39;00m has_torch_function_unary(\u001b[38;5;28mself\u001b[39m):\n\u001b[1;32m    478\u001b[0m     \u001b[38;5;28;01mreturn\u001b[39;00m handle_torch_function(\n\u001b[1;32m    479\u001b[0m         Tensor\u001b[38;5;241m.\u001b[39mbackward,\n\u001b[1;32m    480\u001b[0m         (\u001b[38;5;28mself\u001b[39m,),\n\u001b[0;32m   (...)\u001b[0m\n\u001b[1;32m    485\u001b[0m         inputs\u001b[38;5;241m=\u001b[39minputs,\n\u001b[1;32m    486\u001b[0m     )\n\u001b[0;32m--> 487\u001b[0m torch\u001b[38;5;241m.\u001b[39mautograd\u001b[38;5;241m.\u001b[39mbackward(\n\u001b[1;32m    488\u001b[0m     \u001b[38;5;28mself\u001b[39m, gradient, retain_graph, create_graph, inputs\u001b[38;5;241m=\u001b[39minputs\n\u001b[1;32m    489\u001b[0m )\n",
      "File \u001b[0;32m~/anaconda3/lib/python3.11/site-packages/torch/autograd/__init__.py:200\u001b[0m, in \u001b[0;36mbackward\u001b[0;34m(tensors, grad_tensors, retain_graph, create_graph, grad_variables, inputs)\u001b[0m\n\u001b[1;32m    195\u001b[0m     retain_graph \u001b[38;5;241m=\u001b[39m create_graph\n\u001b[1;32m    197\u001b[0m \u001b[38;5;66;03m# The reason we repeat same the comment below is that\u001b[39;00m\n\u001b[1;32m    198\u001b[0m \u001b[38;5;66;03m# some Python versions print out the first line of a multi-line function\u001b[39;00m\n\u001b[1;32m    199\u001b[0m \u001b[38;5;66;03m# calls in the traceback and some print out the last line\u001b[39;00m\n\u001b[0;32m--> 200\u001b[0m Variable\u001b[38;5;241m.\u001b[39m_execution_engine\u001b[38;5;241m.\u001b[39mrun_backward(  \u001b[38;5;66;03m# Calls into the C++ engine to run the backward pass\u001b[39;00m\n\u001b[1;32m    201\u001b[0m     tensors, grad_tensors_, retain_graph, create_graph, inputs,\n\u001b[1;32m    202\u001b[0m     allow_unreachable\u001b[38;5;241m=\u001b[39m\u001b[38;5;28;01mTrue\u001b[39;00m, accumulate_grad\u001b[38;5;241m=\u001b[39m\u001b[38;5;28;01mTrue\u001b[39;00m)\n",
      "\u001b[0;31mKeyboardInterrupt\u001b[0m: "
     ]
    }
   ],
   "source": [
    "start = default_timer()\n",
    "train_rel_l2_losses, test_rel_l2_losses, test_l2_losses, cost = FNN_train(x_train, y_train, x_test, y_test, config, save_model_name=\"models/FNO_crack_dim\"+str(FNO_dim))\n",
    "end = default_timer()\n",
    "print(\"epochs = \", epochs, \"elapsed time = \", end - start)"
   ]
  },
  {
   "cell_type": "markdown",
   "metadata": {},
   "source": [
    "# Visualization"
   ]
  },
  {
   "cell_type": "code",
   "execution_count": 7,
   "metadata": {
    "scrolled": true
   },
   "outputs": [],
   "source": [
    "def validation(x_train, y_train, x_test, y_test, config, test_ind, test_nt=-1):\n",
    "    device = torch.device('cuda' if torch.cuda.is_available() else 'cpu')\n",
    "    normalization_x, normalization_y, normalization_dim = config[\"train\"][\"normalization_x\"], config[\"train\"][\"normalization_y\"], config[\"train\"][\"normalization_dim\"]\n",
    "    dim = len(x_train.shape) - 2\n",
    "    n_data = x_train.shape[0]\n",
    "    \n",
    "    model = torch.load(\"models/FNO_crack_dim\"+str(dim), map_location=device)\n",
    "    print(\"FNO cost = \", FNN_cost(41^3, config, dim))\n",
    "    print(\"FNO #parameters = \", count_params(model))\n",
    "    \n",
    "    if normalization_x:\n",
    "        x_normalizer = UnitGaussianNormalizer(x_train, dim=normalization_dim)\n",
    "        x_train = x_normalizer.encode(x_train)\n",
    "        x_test = x_normalizer.encode(x_test)\n",
    "        x_normalizer.to(device)\n",
    "        \n",
    "        \n",
    "    if normalization_y:\n",
    "        y_normalizer = UnitGaussianNormalizer(y_train, dim=normalization_dim)\n",
    "        y_train = y_normalizer.encode(y_train)\n",
    "        y_test = y_normalizer.encode(y_test)\n",
    "        y_normalizer.to(device)\n",
    "\n",
    "    \n",
    "    x, y = x_test[test_ind:test_ind+1,...], y_test[test_ind:test_ind+1,...]\n",
    "    x, y = x.to(device), y.to(device)\n",
    "    out = model(x) #.reshape(1,  -1)\n",
    "\n",
    "    \n",
    "    if normalization_y:\n",
    "        out = y_normalizer.decode(out)\n",
    "        y = y_normalizer.decode(y)\n",
    "    \n",
    "    \n",
    "    myloss = LpLoss(d=1, p=2, size_average=False)\n",
    "    print(out.shape, y.shape)\n",
    "    test_rel_l2 = myloss(out.reshape(1,-1), y.reshape(1,-1)).item()\n",
    "    print(\" test_ind = \",  test_ind,  \"; rel_l2 err = \", test_rel_l2)\n",
    "    \n",
    "    if dim == 3:\n",
    "        y_ref = y[0,:,:,:,0].detach().numpy()\n",
    "        y_pred = out[0,:,:,:,0].detach().numpy()\n",
    "    else:\n",
    "        y_ref = y[0,:,:,:,test_nt,0].detach().numpy()\n",
    "        y_pred = out[0,:,:,:,test_nt,0].detach().numpy()\n",
    "    \n",
    "    \n",
    "    fig, axis = plt.subplots(2, 3, figsize = (11, 6), sharex=True, sharey=True)   # first row: reference; second row: prediction\n",
    "    nq = 41\n",
    "    xx = np.linspace(-0.1, 0.1, nq)\n",
    "    yy = np.linspace(-0.1, 0.1, nq)\n",
    "    zz = np.linspace(-0.1, 0.1, nq)\n",
    "    [yq,xq,zq] = np.meshgrid(xx,yy,zz)\n",
    "    \n",
    "    slice_ind = 20\n",
    "    vmin = min(y_ref[slice_ind,:,:].min(), y_ref[:,slice_ind,:].min(), y_ref[:,:,slice_ind].min())\n",
    "    vmax = max(y_ref[slice_ind,:,:].max(), y_ref[:,slice_ind,:].max(), y_ref[:,:,slice_ind].max())\n",
    "    \n",
    "    pcm = axis[0, 0].pcolormesh(yq[slice_ind,:,:],zq[slice_ind,:,:], y_ref[slice_ind,:,:], vmin=vmin, vmax=vmax) \n",
    "    axis[0, 0].set_title(\"x=0\")\n",
    "    axis[0, 0].set_ylabel(\"Reference\")\n",
    "    axis[0, 1].pcolormesh(xq[:,slice_ind,:],zq[:,slice_ind,:], y_ref[:,slice_ind,:], vmin=vmin, vmax=vmax) \n",
    "    axis[0, 1].set_title(\"y=0\")\n",
    "    axis[0, 2].pcolormesh(xq[:,:,slice_ind],yq[:,:,slice_ind], y_ref[:,:,slice_ind], vmin=vmin, vmax=vmax) \n",
    "    axis[0, 2].set_title(\"z=0\")\n",
    "    axis[1, 0].pcolormesh(yq[slice_ind,:,:],zq[slice_ind,:,:], y_pred[slice_ind,:,:], vmin=vmin, vmax=vmax) \n",
    "    axis[1, 0].set_ylabel(\"Prediction\")\n",
    "    axis[1, 1].pcolormesh(xq[:,slice_ind,:],zq[:,slice_ind,:], y_pred[:,slice_ind,:], vmin=vmin, vmax=vmax) \n",
    "    axis[1, 2].pcolormesh(xq[:,:,slice_ind],yq[:,:,slice_ind], y_pred[:,:,slice_ind], vmin=vmin, vmax=vmax)\n",
    "    fig.colorbar(pcm, ax=axis, shrink=0.6)\n",
    "        \n",
    "    fig.savefig(\"crack_dim_\"+str(dim)+\"_testid_\"+str(test_ind)+\"_nt_\"+str(test_nt)+\".pdf\")\n",
    "    return \n",
    "             \n",
    "\n",
    "    \n"
   ]
  },
  {
   "cell_type": "code",
   "execution_count": 8,
   "metadata": {},
   "outputs": [
    {
     "name": "stdout",
     "output_type": "stream",
     "text": [
      "FNO cost =  64065261171.70112\n",
      "FNO #parameters =  509612385\n",
      "torch.Size([1, 41, 41, 41, 16, 1]) torch.Size([1, 41, 41, 41, 16, 1])\n",
      " test_ind =  5 ; rel_l2 err =  0.01612568087875843\n",
      "5.657310962677002\n"
     ]
    },
    {
     "data": {
      "image/png": "[encoded data removed]",
      "text/plain": [
       "<Figure size 1100x600 with 7 Axes>"
      ]
     },
     "metadata": {},
     "output_type": "display_data"
    }
   ],
   "source": [
    "import time\n",
    "start_time = time.time()\n",
    "validation(x_train, y_train, x_test, y_test, config, test_ind=5, test_nt=-1)\n",
    "end_time = time.time()\n",
    "print(end_time - start_time)"
   ]
  },
  {
   "cell_type": "code",
   "execution_count": 9,
   "metadata": {},
   "outputs": [
    {
     "data": {
      "text/plain": [
       "929546.309132211"
      ]
     },
     "execution_count": 9,
     "metadata": {},
     "output_type": "execute_result"
    }
   ],
   "source": [
    "64065261171.70112/41**3\n"
   ]
  },
  {
   "cell_type": "code",
   "execution_count": 10,
   "metadata": {},
   "outputs": [
    {
     "data": {
      "text/plain": [
       "torch.Size([160, 41, 41, 41, 16, 5])"
      ]
     },
     "execution_count": 10,
     "metadata": {},
     "output_type": "execute_result"
    }
   ],
   "source": [
    "x_train.shape"
   ]
  },
  {
   "cell_type": "code",
   "execution_count": null,
   "metadata": {},
   "outputs": [],
   "source": []
  }
 ],
 "metadata": {
  "kernelspec": {
   "display_name": "Python 3 (ipykernel)",
   "language": "python",
   "name": "python3"
  },
  "language_info": {
   "codemirror_mode": {
    "name": "ipython",
    "version": 3
   },
   "file_extension": ".py",
   "mimetype": "text/x-python",
   "name": "python",
   "nbconvert_exporter": "python",
   "pygments_lexer": "ipython3",
   "version": "3.11.4"
  }
 },
 "nbformat": 4,
 "nbformat_minor": 4
}
