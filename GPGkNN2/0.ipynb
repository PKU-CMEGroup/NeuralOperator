{
 "cells": [
  {
   "cell_type": "code",
   "execution_count": 1,
   "metadata": {},
   "outputs": [
    {
     "name": "stderr",
     "output_type": "stream",
     "text": [
      "c:\\Users\\15461\\.conda\\envs\\pytorch\\lib\\site-packages\\torch\\functional.py:512: UserWarning: torch.meshgrid: in an upcoming release, it will be required to pass the indexing argument. (Triggered internally at C:\\cb\\pytorch_1000000000000\\work\\aten\\src\\ATen\\native\\TensorShape.cpp:3588.)\n",
      "  return _VF.meshgrid(tensors, **kwargs)  # type: ignore[attr-defined]\n"
     ]
    }
   ],
   "source": [
    "import torch\n",
    "import numpy as np\n",
    "import math\n",
    "\n",
    "def uniform_points(range_pts,num_pts,dim, uniformtype ='off_boundary'):\n",
    "    a = round(math.pow(num_pts, 1 / dim))\n",
    "    index_tensors = []\n",
    "    for k in range(dim):\n",
    "        xmin,xmax = range_pts[k][0],range_pts[k][1]\n",
    "        if uniformtype =='off_boundary':\n",
    "            idx = xmin + (xmax-xmin)*torch.arange(a).float().add(0.5).div(a)\n",
    "        elif uniformtype =='on_boundary':\n",
    "            assert a>1\n",
    "            idx = xmin + (xmax-xmin)*torch.arange(a).float().div(a-1)\n",
    "        idx = idx.view((1,) * k+ (-1,) + (1,) * (dim - k - 1))\n",
    "        index_tensors.append(idx.expand(a, *([a] * (dim - 1))))\n",
    "    num_pts1 = int(torch.pow(torch.tensor(a),dim))\n",
    "    x = torch.stack(index_tensors, dim=dim).reshape(num_pts1,dim)\n",
    "    return x\n",
    "\n",
    "\n",
    "computetype = 'Fourier_freq'\n",
    "uniformtype = 'off_boundary'\n",
    "\n",
    "if computetype =='init_weight':\n",
    "    weight = 100\n",
    "    baseweight = weight*torch.ones(M,2)\n",
    "    # print(basepts.shape)\n",
    "    torch.save(baseweight,f'para/darcy/baseweight_{weight}.pt')\n",
    "\n",
    "elif computetype == 'Fourier_freq':\n",
    "    modes = 7\n",
    "    x = torch.arange(-modes, modes+1) \n",
    "    y = torch.arange(-modes, modes+1) \n",
    "    X, Y = torch.meshgrid(x, y)\n",
    "    Fourier_weight = 2*np.pi*torch.stack((X.flatten(), Y.flatten()), dim=1)\n",
    "    torch.save(Fourier_weight,f'para/darcy/Fourier{modes}_uniform.pt')"
   ]
  }
 ],
 "metadata": {
  "kernelspec": {
   "display_name": "pytorch",
   "language": "python",
   "name": "python3"
  },
  "language_info": {
   "codemirror_mode": {
    "name": "ipython",
    "version": 3
   },
   "file_extension": ".py",
   "mimetype": "text/x-python",
   "name": "python",
   "nbconvert_exporter": "python",
   "pygments_lexer": "ipython3",
   "version": "3.10.14"
  }
 },
 "nbformat": 4,
 "nbformat_minor": 2
}
