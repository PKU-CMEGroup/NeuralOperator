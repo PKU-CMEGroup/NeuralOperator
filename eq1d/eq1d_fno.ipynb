{
 "cells": [
  {
   "cell_type": "markdown",
   "metadata": {},
   "source": [
    "# Python file for training FNO"
   ]
  },
  {
   "cell_type": "code",
   "execution_count": 1,
   "metadata": {},
   "outputs": [],
   "source": [
    "import random\n",
    "import torch\n",
    "import sys\n",
    "import numpy as np\n",
    "import math\n",
    "import matplotlib.pyplot as plt\n",
    "from timeit import default_timer\n",
    "\n",
    "sys.path.append('../')\n",
    "from models import FNN1d, FNN1d_train\n",
    "prefix = \"/central/groups/esm/dzhuang/cost-accuracy-data/\"\n"
   ]
  },
  {
   "cell_type": "markdown",
   "metadata": {},
   "source": [
    "# Darcy equation solver\n",
    "$$-\\nabla (a \\nabla u) = f$$"
   ]
  },
  {
   "cell_type": "code",
   "execution_count": 2,
   "metadata": {},
   "outputs": [],
   "source": [
    "darcy_as = np.load(prefix+\"darcy_a.npy\")\n",
    "darcy_us_ref = np.load(prefix+\"darcy_u.npy\")\n"
   ]
  },
  {
   "cell_type": "code",
   "execution_count": 4,
   "metadata": {},
   "outputs": [
    {
     "name": "stdout",
     "output_type": "stream",
     "text": [
      "Epoch :  0  Rel. Train L2 Loss :  0.1476301160582807  Rel. Test L2 Loss :  0.03670573808631161  Test L2 Loss :  0.1326889921037946\n",
      "Epoch :  10  Rel. Train L2 Loss :  0.01167851842546952  Rel. Test L2 Loss :  0.010566048879809387  Test L2 Loss :  0.03954440551751759\n",
      "epochs =  11 elapsed time =  181.13013621466234\n"
     ]
    }
   ],
   "source": [
    "torch.manual_seed(0)\n",
    "np.random.seed(0)\n",
    "\n",
    "downsample_ratio = 1\n",
    "\n",
    "L, Ne_ref = 1.0, 2**12\n",
    "Ne = Ne_ref//downsample_ratio\n",
    "\n",
    "grid = np.linspace(0, L, Ne+1)\n",
    "M = 2**15\n",
    "n_train = n_test = 2**14\n",
    "x_train = torch.from_numpy(np.stack((darcy_as[0:n_train, 0::downsample_ratio], np.tile(grid, (n_train,1))), axis=-1).astype(np.float32))\n",
    "y_train = torch.from_numpy(darcy_us_ref[0:n_train, 0::downsample_ratio, np.newaxis].astype(np.float32))\n",
    "# x_train, y_train are [n_data, n_x, n_channel] arrays\n",
    "x_test = torch.from_numpy(np.stack((darcy_as[M//2:M//2+n_test, 0::downsample_ratio], np.tile(grid, (n_test,1))), axis=-1).astype(np.float32))\n",
    "y_test = torch.from_numpy(darcy_us_ref[M//2:M//2+n_test, 0::downsample_ratio, np.newaxis].astype(np.float32))\n",
    "# x_test, y_test are [n_data, n_x, n_channel] arrays\n",
    "\n",
    "\n",
    "n_fno_layers = 3\n",
    "k_max = 32\n",
    "d_f = 32\n",
    "# fourier k_max\n",
    "modes = [k_max] * n_fno_layers\n",
    "# channel d_f\n",
    "layers = [d_f] * (n_fno_layers + 1)\n",
    "fc_dim = d_f\n",
    "in_dim = 2\n",
    "out_dim = 1\n",
    "act = \"gelu\"\n",
    "pad_ratio = 0.05\n",
    "\n",
    "base_lr = 0.001\n",
    "epochs = 11\n",
    "milestones = [200, 300, 400, 500, 800,900]\n",
    "scheduler_gamma = 0.5\n",
    "batch_size=32\n",
    "normalization = True\n",
    "dim = []\n",
    "\n",
    "config = {\"model\" : {\"modes\": modes, \"fc_dim\": fc_dim, \"layers\": layers, \"in_dim\": in_dim, \"out_dim\":out_dim, \"act\": act, \"pad_ratio\":pad_ratio},\n",
    "          \"train\" : {\"base_lr\": base_lr, \"epochs\": epochs, \"milestones\": milestones, \"scheduler_gamma\": scheduler_gamma, \"batch_size\": batch_size, \n",
    "                    \"normalization\": normalization, \"dim\": dim}}\n",
    "\n",
    "start = default_timer()\n",
    "train_rel_l2_losses, test_rel_l2_losses, test_l2_losses, cost = FNN1d_train(x_train, y_train, x_test, y_test, config, save_model_name=prefix+\"models/darcy_FNO\")\n",
    "end = default_timer()\n",
    "print(\"epochs = \", epochs, \"elapsed time = \", end - start)"
   ]
  },
  {
   "cell_type": "code",
   "execution_count": 13,
   "metadata": {},
   "outputs": [
    {
     "name": "stdout",
     "output_type": "stream",
     "text": [
      "Epoch :  0  Rel. Train L2 Loss :  0.14040614537952933  Rel. Test L2 Loss :  0.056555189803475514  Test L2 Loss :  0.21334419591585174\n",
      "Epoch :  10  Rel. Train L2 Loss :  0.018617707890371094  Rel. Test L2 Loss :  0.025725485324073816  Test L2 Loss :  0.07820896364864893\n",
      "epochs =  11 elapsed time =  506.9702727040276\n"
     ]
    }
   ],
   "source": [
    "torch.manual_seed(0)\n",
    "np.random.seed(0)\n",
    "\n",
    "downsample_ratio = 1\n",
    "\n",
    "L, Ne_ref = 1.0, 2**12\n",
    "Ne = Ne_ref//downsample_ratio\n",
    "\n",
    "grid = np.linspace(0, L, Ne+1)\n",
    "M = 2**15\n",
    "n_train = n_test = 2**13\n",
    "x_train = torch.from_numpy(np.stack((darcy_as[0:n_train, 0::downsample_ratio], np.tile(grid, (n_train,1))), axis=-1).astype(np.float32))\n",
    "y_train = torch.from_numpy(darcy_us_ref[0:n_train, 0::downsample_ratio, np.newaxis].astype(np.float32))\n",
    "# x_train, y_train are [n_data, n_x, n_channel] arrays\n",
    "x_test = torch.from_numpy(np.stack((darcy_as[M//2:M//2+n_test, 0::downsample_ratio], np.tile(grid, (n_test,1))), axis=-1).astype(np.float32))\n",
    "y_test = torch.from_numpy(darcy_us_ref[M//2:M//2+n_test, 0::downsample_ratio, np.newaxis].astype(np.float32))\n",
    "# x_test, y_test are [n_data, n_x, n_channel] arrays\n",
    "\n",
    "\n",
    "n_fno_layers = 6\n",
    "k_max = 128\n",
    "d_f = 128\n",
    "# fourier k_max\n",
    "modes = [k_max] * n_fno_layers\n",
    "# channel d_f\n",
    "layers = [d_f] * (n_fno_layers + 1)\n",
    "fc_dim = d_f\n",
    "in_dim = 2\n",
    "out_dim = 1\n",
    "act = \"gelu\"\n",
    "pad_ratio = 0.05\n",
    "\n",
    "base_lr = 0.001\n",
    "epochs = 11\n",
    "milestones = [200, 300, 400, 500, 800,900]\n",
    "scheduler_gamma = 0.5\n",
    "batch_size=32\n",
    "normalization = True\n",
    "dim = []\n",
    "\n",
    "config = {\"model\" : {\"modes\": modes, \"fc_dim\": fc_dim, \"layers\": layers, \"in_dim\": in_dim, \"out_dim\":out_dim, \"act\": act, \"pad_ratio\":pad_ratio},\n",
    "          \"train\" : {\"base_lr\": base_lr, \"epochs\": epochs, \"milestones\": milestones, \"scheduler_gamma\": scheduler_gamma, \"batch_size\": batch_size, \n",
    "                    \"normalization\": normalization, \"dim\": dim}}\n",
    "\n",
    "start = default_timer()\n",
    "train_rel_l2_losses, test_rel_l2_losses, test_l2_losses, cost = FNN1d_train(x_train, y_train, x_test, y_test, config, save_model_name=prefix+\"models/darcy_FNO\")\n",
    "end = default_timer()\n",
    "print(\"epochs = \", epochs, \"elapsed time = \", end - start)"
   ]
  },
  {
   "cell_type": "code",
   "execution_count": null,
   "metadata": {},
   "outputs": [],
   "source": [
    "Ne_ref = 2**12\n",
    "n_train = n_test = 2**14\n",
    "n_fno_layers = 6\n",
    "k_max = 128\n",
    "d_f = 128\n",
    "epochs =  11 elapsed time =  1022.8753047250211\n",
    "\n",
    "Ne_ref = 2**12\n",
    "n_train = n_test = 2**13\n",
    "n_fno_layers = 6\n",
    "k_max = 128\n",
    "d_f = 128\n",
    "epochs =  11 elapsed time =  509.5362855917774\n",
    "\n",
    "\n",
    "Ne_ref = 2**12\n",
    "n_train = n_test = 2**13\n",
    "n_fno_layers = 3\n",
    "k_max = 32\n",
    "d_f = 32\n",
    "epochs =  11 elapsed time =  88\n",
    "\n",
    "Ne_ref = 2**12\n",
    "n_train = n_test = 2**13\n",
    "n_fno_layers = 3\n",
    "k_max = 128\n",
    "d_f = 128\n",
    "epochs =  11 elapsed time =  281.1660668849945"
   ]
  },
  {
   "cell_type": "code",
   "execution_count": 20,
   "metadata": {},
   "outputs": [
    {
     "data": {
      "text/plain": [
       "<matplotlib.legend.Legend at 0x7fa4d6969850>"
      ]
     },
     "execution_count": 20,
     "metadata": {},
     "output_type": "execute_result"
    },
    {
     "data": {
      "image/png": "[encoded data removed]",
      "text/plain": [
       "<Figure size 432x288 with 1 Axes>"
      ]
     },
     "metadata": {
      "needs_background": "light"
     },
     "output_type": "display_data"
    }
   ],
   "source": [
    "n = len(train_rel_l2_losses)\n",
    "plt.plot(np.arange(n), train_rel_l2_losses, label=r\"Training rel. $L_2$ loss\")\n",
    "plt.plot(np.arange(n), test_rel_l2_losses, label=r\"Test rel. $L_2$ loss\")\n",
    "plt.semilogy(np.arange(n), test_l2_losses, label=r\"Test $L_2$ loss\")\n",
    "plt.legend()"
   ]
  },
  {
   "cell_type": "markdown",
   "metadata": {},
   "source": [
    "# Heat equation\n",
    "$$\n",
    "u_t - \\triangle u = f\n",
    "$$"
   ]
  },
  {
   "cell_type": "code",
   "execution_count": 2,
   "metadata": {},
   "outputs": [],
   "source": [
    "heat_u0s    = np.load(prefix+\"heat_u0.npy\")\n",
    "heat_fs     = np.load(prefix+\"heat_f.npy\")\n",
    "heat_us_ref = np.load(prefix+\"heat_u.npy\")\n"
   ]
  },
  {
   "cell_type": "code",
   "execution_count": 18,
   "metadata": {},
   "outputs": [
    {
     "name": "stdout",
     "output_type": "stream",
     "text": [
      "Epoch :  0  Rel. Train L2 Loss :  0.856382217258215  Rel. Test L2 Loss :  0.42145340237766504  Test L2 Loss :  0.013766690710326657\n",
      "Epoch :  10  Rel. Train L2 Loss :  0.10069461376406252  Rel. Test L2 Loss :  0.14603036059997976  Test L2 Loss :  0.00425791964516975\n",
      "Epoch :  20  Rel. Train L2 Loss :  0.09720877592917532  Rel. Test L2 Loss :  0.09803374879993498  Test L2 Loss :  0.0033720946448738687\n",
      "Epoch :  30  Rel. Train L2 Loss :  0.07493615138810128  Rel. Test L2 Loss :  0.10992885567247868  Test L2 Loss :  0.0025477786766714416\n",
      "Epoch :  40  Rel. Train L2 Loss :  0.06044385093264282  Rel. Test L2 Loss :  0.06221187219489366  Test L2 Loss :  0.002013795372477034\n",
      "Epoch :  50  Rel. Train L2 Loss :  0.07048260036390275  Rel. Test L2 Loss :  0.0632499074563384  Test L2 Loss :  0.0014643911890743766\n",
      "Epoch :  60  Rel. Train L2 Loss :  0.05660118453670293  Rel. Test L2 Loss :  0.044763920130208135  Test L2 Loss :  0.0012948850999237038\n",
      "Epoch :  70  Rel. Train L2 Loss :  0.03958965907804668  Rel. Test L2 Loss :  0.0700740908505395  Test L2 Loss :  0.0024479403691657353\n",
      "Epoch :  80  Rel. Train L2 Loss :  0.070607578556519  Rel. Test L2 Loss :  0.07075833063572645  Test L2 Loss :  0.0014480623922281666\n",
      "Epoch :  90  Rel. Train L2 Loss :  0.04689590010093525  Rel. Test L2 Loss :  0.04971414624014869  Test L2 Loss :  0.0011823308141174493\n",
      "Epoch :  100  Rel. Train L2 Loss :  0.0659524891525507  Rel. Test L2 Loss :  0.053338988102041185  Test L2 Loss :  0.0015456159562745597\n",
      "Epoch :  110  Rel. Train L2 Loss :  0.042289263394195586  Rel. Test L2 Loss :  0.02877239411463961  Test L2 Loss :  0.0008126215398078784\n",
      "Epoch :  120  Rel. Train L2 Loss :  0.0829576418036595  Rel. Test L2 Loss :  0.06112907349597663  Test L2 Loss :  0.0014124549124971963\n",
      "Epoch :  130  Rel. Train L2 Loss :  0.04826758103445172  Rel. Test L2 Loss :  0.07024945865850896  Test L2 Loss :  0.001970833876839606\n",
      "Epoch :  140  Rel. Train L2 Loss :  0.03786936140386388  Rel. Test L2 Loss :  0.030001973966136575  Test L2 Loss :  0.000811824149423046\n",
      "Epoch :  150  Rel. Train L2 Loss :  0.03708800213644281  Rel. Test L2 Loss :  0.03381920111132786  Test L2 Loss :  0.0009087459275178844\n",
      "Epoch :  160  Rel. Train L2 Loss :  0.03634624369442463  Rel. Test L2 Loss :  0.035450820287223905  Test L2 Loss :  0.0007359926639765035\n",
      "Epoch :  170  Rel. Train L2 Loss :  0.03119391284417361  Rel. Test L2 Loss :  0.04652612120844424  Test L2 Loss :  0.0009680067632871214\n",
      "Epoch :  180  Rel. Train L2 Loss :  0.032255496189463884  Rel. Test L2 Loss :  0.03221403720090166  Test L2 Loss :  0.0007316778483072994\n",
      "Epoch :  190  Rel. Train L2 Loss :  0.04450758843449876  Rel. Test L2 Loss :  0.05194189376197755  Test L2 Loss :  0.0011892802867805585\n",
      "Epoch :  200  Rel. Train L2 Loss :  0.02447348742862232  Rel. Test L2 Loss :  0.03238910477375612  Test L2 Loss :  0.000717576267561526\n",
      "Epoch :  210  Rel. Train L2 Loss :  0.021214136388152838  Rel. Test L2 Loss :  0.023656810401007533  Test L2 Loss :  0.000651157845823036\n",
      "Epoch :  220  Rel. Train L2 Loss :  0.02832730350201018  Rel. Test L2 Loss :  0.025429392175283283  Test L2 Loss :  0.00064886487689364\n",
      "Epoch :  230  Rel. Train L2 Loss :  0.02393865422345698  Rel. Test L2 Loss :  0.026409639278426766  Test L2 Loss :  0.0006756298716936726\n",
      "Epoch :  240  Rel. Train L2 Loss :  0.021079578495118767  Rel. Test L2 Loss :  0.02399816844263114  Test L2 Loss :  0.0005127641115905135\n",
      "Epoch :  250  Rel. Train L2 Loss :  0.01997858937829733  Rel. Test L2 Loss :  0.027408967434894294  Test L2 Loss :  0.0008104770095087588\n",
      "Epoch :  260  Rel. Train L2 Loss :  0.020303251163568348  Rel. Test L2 Loss :  0.029901542991865426  Test L2 Loss :  0.0007707975146331592\n",
      "Epoch :  270  Rel. Train L2 Loss :  0.014464092731941491  Rel. Test L2 Loss :  0.021686812193365768  Test L2 Loss :  0.0004918166550851311\n",
      "Epoch :  280  Rel. Train L2 Loss :  0.01626271865097806  Rel. Test L2 Loss :  0.023338117345701903  Test L2 Loss :  0.0004944554930261802\n",
      "Epoch :  290  Rel. Train L2 Loss :  0.01869603293016553  Rel. Test L2 Loss :  0.023557771753985435  Test L2 Loss :  0.0005292698406265117\n",
      "Epoch :  300  Rel. Train L2 Loss :  0.015482959890505299  Rel. Test L2 Loss :  0.020563023805152625  Test L2 Loss :  0.00044970200633542845\n",
      "Epoch :  310  Rel. Train L2 Loss :  0.012427466645021923  Rel. Test L2 Loss :  0.02926366846077144  Test L2 Loss :  0.0008272764207504224\n",
      "Epoch :  320  Rel. Train L2 Loss :  0.00841604924062267  Rel. Test L2 Loss :  0.02432490445789881  Test L2 Loss :  0.0005134873545102892\n",
      "Epoch :  330  Rel. Train L2 Loss :  0.008891549849067815  Rel. Test L2 Loss :  0.021356393612222746  Test L2 Loss :  0.0004494402446653112\n",
      "Epoch :  340  Rel. Train L2 Loss :  0.013235274018370546  Rel. Test L2 Loss :  0.01941064157290384  Test L2 Loss :  0.000406425660912646\n",
      "Epoch :  350  Rel. Train L2 Loss :  0.00852259559178492  Rel. Test L2 Loss :  0.02057612212956883  Test L2 Loss :  0.00042477580791455694\n",
      "Epoch :  360  Rel. Train L2 Loss :  0.009502417262410745  Rel. Test L2 Loss :  0.01902800382231362  Test L2 Loss :  0.00038780923659942346\n",
      "Epoch :  370  Rel. Train L2 Loss :  0.009317042407928966  Rel. Test L2 Loss :  0.020545321458484977  Test L2 Loss :  0.0004116385725865257\n",
      "Epoch :  380  Rel. Train L2 Loss :  0.007149060525989626  Rel. Test L2 Loss :  0.020146793191088364  Test L2 Loss :  0.00039149038912000833\n",
      "Epoch :  390  Rel. Train L2 Loss :  0.012510900560300797  Rel. Test L2 Loss :  0.02084569539874792  Test L2 Loss :  0.00046615924475190695\n",
      "Epoch :  400  Rel. Train L2 Loss :  0.005010636043152772  Rel. Test L2 Loss :  0.01851597527274862  Test L2 Loss :  0.0003629388220360852\n",
      "Epoch :  410  Rel. Train L2 Loss :  0.0057142425430356525  Rel. Test L2 Loss :  0.018853096204111353  Test L2 Loss :  0.0003700692013808293\n",
      "Epoch :  420  Rel. Train L2 Loss :  0.005594844325969461  Rel. Test L2 Loss :  0.01886346485116519  Test L2 Loss :  0.0003744236419152003\n",
      "Epoch :  430  Rel. Train L2 Loss :  0.003429158190556336  Rel. Test L2 Loss :  0.018208278575912118  Test L2 Loss :  0.0003627430205597193\n",
      "Epoch :  440  Rel. Train L2 Loss :  0.005243359053565655  Rel. Test L2 Loss :  0.01959599056863226  Test L2 Loss :  0.00038748994120396674\n",
      "Epoch :  450  Rel. Train L2 Loss :  0.0049632612281129695  Rel. Test L2 Loss :  0.01879425990046002  Test L2 Loss :  0.0003541407304510358\n",
      "Epoch :  460  Rel. Train L2 Loss :  0.004801720380783081  Rel. Test L2 Loss :  0.02002577288658358  Test L2 Loss :  0.00041550465357431676\n",
      "Epoch :  470  Rel. Train L2 Loss :  0.003479825270915171  Rel. Test L2 Loss :  0.0186009144235868  Test L2 Loss :  0.0003556836518328055\n",
      "Epoch :  480  Rel. Train L2 Loss :  0.0066436785127734765  Rel. Test L2 Loss :  0.02005210446077399  Test L2 Loss :  0.0003957185372200911\n",
      "Epoch :  490  Rel. Train L2 Loss :  0.004039953710162081  Rel. Test L2 Loss :  0.019231991056585684  Test L2 Loss :  0.00036216316220816225\n",
      "Epoch :  500  Rel. Train L2 Loss :  0.0031470724534301553  Rel. Test L2 Loss :  0.018255041155498475  Test L2 Loss :  0.00034624990439624526\n",
      "Epoch :  510  Rel. Train L2 Loss :  0.0019391781970625743  Rel. Test L2 Loss :  0.01840273482957855  Test L2 Loss :  0.00034964082260557916\n",
      "Epoch :  520  Rel. Train L2 Loss :  0.002679771641851403  Rel. Test L2 Loss :  0.01836705976165831  Test L2 Loss :  0.00034783314731612336\n",
      "Epoch :  530  Rel. Train L2 Loss :  0.002375161955569638  Rel. Test L2 Loss :  0.018170882860431448  Test L2 Loss :  0.0003461066016825498\n",
      "Epoch :  540  Rel. Train L2 Loss :  0.002240400543087162  Rel. Test L2 Loss :  0.018179267179220915  Test L2 Loss :  0.00034268080298716086\n",
      "Epoch :  550  Rel. Train L2 Loss :  0.0022258225653786212  Rel. Test L2 Loss :  0.018107382173184305  Test L2 Loss :  0.00034080064733643667\n",
      "Epoch :  560  Rel. Train L2 Loss :  0.0021745283047494013  Rel. Test L2 Loss :  0.01829944201745093  Test L2 Loss :  0.00034295179466425907\n",
      "Epoch :  570  Rel. Train L2 Loss :  0.002241282010800205  Rel. Test L2 Loss :  0.01820334856165573  Test L2 Loss :  0.00033923266346391756\n",
      "Epoch :  580  Rel. Train L2 Loss :  0.0021202669231570326  Rel. Test L2 Loss :  0.018384069873718545  Test L2 Loss :  0.00034059831386912265\n",
      "Epoch :  590  Rel. Train L2 Loss :  0.003242642731493106  Rel. Test L2 Loss :  0.01818427731632255  Test L2 Loss :  0.0003474065606496879\n",
      "Epoch :  600  Rel. Train L2 Loss :  0.003670455022074748  Rel. Test L2 Loss :  0.018333457614062354  Test L2 Loss :  0.0003453445087870932\n",
      "Epoch :  610  Rel. Train L2 Loss :  0.0032686626436770894  Rel. Test L2 Loss :  0.01839988268329762  Test L2 Loss :  0.00035294446570333093\n",
      "Epoch :  620  Rel. Train L2 Loss :  0.0023391331487800926  Rel. Test L2 Loss :  0.018159743427531794  Test L2 Loss :  0.0003402066049602581\n",
      "Epoch :  630  Rel. Train L2 Loss :  0.002937317251053173  Rel. Test L2 Loss :  0.018095157778589055  Test L2 Loss :  0.0003399613333385787\n",
      "Epoch :  640  Rel. Train L2 Loss :  0.0027961738996964414  Rel. Test L2 Loss :  0.018582131597213447  Test L2 Loss :  0.0003492073306006205\n",
      "Epoch :  650  Rel. Train L2 Loss :  0.0043966321827610955  Rel. Test L2 Loss :  0.018509429559344426  Test L2 Loss :  0.0003480703626337345\n",
      "Epoch :  660  Rel. Train L2 Loss :  0.002843303376721451  Rel. Test L2 Loss :  0.01816559847793542  Test L2 Loss :  0.00034341827131356695\n",
      "Epoch :  670  Rel. Train L2 Loss :  0.002258018201246159  Rel. Test L2 Loss :  0.018305736681213602  Test L2 Loss :  0.00034020887142105494\n",
      "Epoch :  680  Rel. Train L2 Loss :  0.0019502883988025133  Rel. Test L2 Loss :  0.01818888570414856  Test L2 Loss :  0.000337114146532258\n",
      "Epoch :  690  Rel. Train L2 Loss :  0.0027328821233822964  Rel. Test L2 Loss :  0.018696012411965057  Test L2 Loss :  0.0003502753179418505\n",
      "Epoch :  700  Rel. Train L2 Loss :  0.002601575237349607  Rel. Test L2 Loss :  0.01815419568447396  Test L2 Loss :  0.00033977407474594656\n",
      "Epoch :  710  Rel. Train L2 Loss :  0.0024682012845005374  Rel. Test L2 Loss :  0.01842733786907047  Test L2 Loss :  0.00034235928706038976\n",
      "Epoch :  720  Rel. Train L2 Loss :  0.0017017979844240472  Rel. Test L2 Loss :  0.01812226077890955  Test L2 Loss :  0.00033781751517381053\n",
      "Epoch :  730  Rel. Train L2 Loss :  0.002678014661796624  Rel. Test L2 Loss :  0.01812846280517988  Test L2 Loss :  0.0003348890313645825\n",
      "Epoch :  740  Rel. Train L2 Loss :  0.0017357361430185847  Rel. Test L2 Loss :  0.018228266126243398  Test L2 Loss :  0.0003359695056133205\n",
      "Epoch :  750  Rel. Train L2 Loss :  0.0018095391205861233  Rel. Test L2 Loss :  0.018012590589933097  Test L2 Loss :  0.0003332624428367126\n",
      "Epoch :  760  Rel. Train L2 Loss :  0.0032287329850078095  Rel. Test L2 Loss :  0.01837855821941048  Test L2 Loss :  0.00034733742904791143\n",
      "Epoch :  770  Rel. Train L2 Loss :  0.0034266584443685133  Rel. Test L2 Loss :  0.018588442966574803  Test L2 Loss :  0.0003603492441470735\n",
      "Epoch :  780  Rel. Train L2 Loss :  0.0021601861335511785  Rel. Test L2 Loss :  0.018097040068823844  Test L2 Loss :  0.0003378745209374756\n",
      "Epoch :  790  Rel. Train L2 Loss :  0.0020211864648445044  Rel. Test L2 Loss :  0.018030591018032283  Test L2 Loss :  0.0003376856639079051\n",
      "Epoch :  800  Rel. Train L2 Loss :  0.0016040735190472333  Rel. Test L2 Loss :  0.01813466817839071  Test L2 Loss :  0.00033656464165687794\n",
      "Epoch :  810  Rel. Train L2 Loss :  0.0013116329319018405  Rel. Test L2 Loss :  0.017982052348088473  Test L2 Loss :  0.0003330971740069799\n",
      "Epoch :  820  Rel. Train L2 Loss :  0.0013255201010906603  Rel. Test L2 Loss :  0.017980902484850958  Test L2 Loss :  0.00033474069505246007\n",
      "Epoch :  830  Rel. Train L2 Loss :  0.0013750693651672918  Rel. Test L2 Loss :  0.018133496720110998  Test L2 Loss :  0.000332634090227657\n",
      "Epoch :  840  Rel. Train L2 Loss :  0.0012114621877117315  Rel. Test L2 Loss :  0.01809480125666596  Test L2 Loss :  0.00033363086186000146\n",
      "Epoch :  850  Rel. Train L2 Loss :  0.0015065784609760158  Rel. Test L2 Loss :  0.018037871224805713  Test L2 Loss :  0.00033614679205129505\n",
      "Epoch :  860  Rel. Train L2 Loss :  0.0015642357466276735  Rel. Test L2 Loss :  0.018080003472277895  Test L2 Loss :  0.0003322932534501888\n",
      "Epoch :  870  Rel. Train L2 Loss :  0.0012632285252038855  Rel. Test L2 Loss :  0.017919193807756528  Test L2 Loss :  0.0003310268607492617\n",
      "Epoch :  880  Rel. Train L2 Loss :  0.001131660977989668  Rel. Test L2 Loss :  0.017971978115383536  Test L2 Loss :  0.00033096566585300025\n",
      "Epoch :  890  Rel. Train L2 Loss :  0.001142386652645655  Rel. Test L2 Loss :  0.017968796426430345  Test L2 Loss :  0.00033133198576251743\n",
      "Epoch :  900  Rel. Train L2 Loss :  0.0009140233141806675  Rel. Test L2 Loss :  0.01799252993077971  Test L2 Loss :  0.0003302799259472522\n",
      "Epoch :  910  Rel. Train L2 Loss :  0.0006781944293834385  Rel. Test L2 Loss :  0.01802368092467077  Test L2 Loss :  0.0003308181208012684\n",
      "Epoch :  920  Rel. Train L2 Loss :  0.0006944656543055316  Rel. Test L2 Loss :  0.017975252179894596  Test L2 Loss :  0.00033203906286871643\n",
      "Epoch :  930  Rel. Train L2 Loss :  0.0008984662599686999  Rel. Test L2 Loss :  0.018040779774310067  Test L2 Loss :  0.0003315181706966541\n",
      "Epoch :  940  Rel. Train L2 Loss :  0.0006952643752811127  Rel. Test L2 Loss :  0.017950646579265594  Test L2 Loss :  0.0003297828334325459\n",
      "Epoch :  950  Rel. Train L2 Loss :  0.0006928467792022275  Rel. Test L2 Loss :  0.017957348929485306  Test L2 Loss :  0.0003302224804428988\n",
      "Epoch :  960  Rel. Train L2 Loss :  0.0007990422354851034  Rel. Test L2 Loss :  0.018036371911875904  Test L2 Loss :  0.00033212338894372806\n",
      "Epoch :  970  Rel. Train L2 Loss :  0.0008154758834280074  Rel. Test L2 Loss :  0.01801811091718264  Test L2 Loss :  0.000330200110511214\n",
      "Epoch :  980  Rel. Train L2 Loss :  0.0006635527870457736  Rel. Test L2 Loss :  0.017988950392464176  Test L2 Loss :  0.0003301719257251534\n",
      "Epoch :  990  Rel. Train L2 Loss :  0.000903905443919939  Rel. Test L2 Loss :  0.017967702413443476  Test L2 Loss :  0.00033028526604539366\n",
      "Epoch :  1000  Rel. Train L2 Loss :  0.0005942718698861427  Rel. Test L2 Loss :  0.01795133063569665  Test L2 Loss :  0.00032980215746647445\n"
     ]
    }
   ],
   "source": [
    "torch.manual_seed(0)\n",
    "np.random.seed(0)\n",
    "\n",
    "\n",
    "downsample_ratio = 1\n",
    "\n",
    "L, Ne_ref = 1.0, 2**12\n",
    "Ne = Ne_ref//downsample_ratio\n",
    "\n",
    "grid = np.linspace(0, L, Ne+1)\n",
    "M = 2**15\n",
    "n_train = n_test = 2**10\n",
    "x_train = torch.from_numpy(np.stack((heat_u0s[0:n_train, 0::downsample_ratio], heat_fs[0:n_train, 0::downsample_ratio], np.tile(grid, (n_train,1))), axis=-1).astype(np.float32))\n",
    "y_train = torch.from_numpy(heat_us_ref[0:n_train, 0::downsample_ratio, np.newaxis].astype(np.float32))\n",
    "# x_train, y_train are [n_data, n_x, n_channel] arrays\n",
    "x_test = torch.from_numpy(np.stack((heat_u0s[M//2:M//2+n_test, 0::downsample_ratio], heat_fs[M//2:M//2+n_test, 0::downsample_ratio], np.tile(grid, (n_test,1))), axis=-1).astype(np.float32))\n",
    "y_test = torch.from_numpy(heat_us_ref[M//2:M//2+n_test, 0::downsample_ratio, np.newaxis].astype(np.float32))\n",
    "# x_test, y_test are [n_data, n_x, n_channel] arrays\n",
    "\n",
    "\n",
    "n_fno_layers = 3\n",
    "k_max = 128\n",
    "d_f = 128\n",
    "# fourier k_max\n",
    "modes = [k_max] * n_fno_layers\n",
    "# channel d_f\n",
    "layers = [d_f] * (n_fno_layers + 1)\n",
    "fc_dim = d_f\n",
    "in_dim = 3\n",
    "out_dim = 1\n",
    "act = \"gelu\"\n",
    "pad_ratio = 0.05\n",
    "\n",
    "base_lr = 0.001\n",
    "epochs = 1001\n",
    "milestones = [200, 300, 400, 500, 800,900]\n",
    "scheduler_gamma = 0.5\n",
    "batch_size=32\n",
    "normalization = True\n",
    "dim = []\n",
    "\n",
    "config = {\"model\" : {\"modes\": modes, \"fc_dim\": fc_dim, \"layers\": layers, \"in_dim\": in_dim, \"out_dim\":out_dim, \"act\": act, \"pad_ratio\":pad_ratio},\n",
    "          \"train\" : {\"base_lr\": base_lr, \"epochs\": epochs, \"milestones\": milestones, \"scheduler_gamma\": scheduler_gamma, \"batch_size\": batch_size, \n",
    "                    \"normalization\": normalization, \"dim\": dim}}\n",
    "\n",
    "train_rel_l2_losses, test_rel_l2_losses, test_l2_losses, cost = FNN1d_train(x_train, y_train, x_test, y_test, config, save_model_name=prefix+\"models/test\")"
   ]
  },
  {
   "cell_type": "code",
   "execution_count": null,
   "metadata": {},
   "outputs": [],
   "source": [
    "k_max = 32\n",
    "d_f = 32\n",
    "Epoch :  1000  Rel. Train L2 Loss :  0.002646285909577273  Rel. Test L2 Loss :  0.005841498059453443  Test L2 Loss :  0.00019765041542996187\n",
    "\n",
    "k_max = 128\n",
    "d_f = 128\n",
    "Epoch :  1000  Rel. Train L2 Loss :  0.0005942718698861427  Rel. Test L2 Loss :  0.01795133063569665  Test L2 Loss :  0.00032980215746647445\n",
    "                \n",
    "                \n",
    "Epoch :  1000  Rel. Train L2 Loss :  0.0035736724239541218  Rel. Test L2 Loss :  0.00750352768227458  Test L2 Loss :  0.0002495344524504617"
   ]
  },
  {
   "cell_type": "code",
   "execution_count": 34,
   "metadata": {},
   "outputs": [
    {
     "data": {
      "text/plain": [
       "<matplotlib.legend.Legend at 0x7fa4db8b85d0>"
      ]
     },
     "execution_count": 34,
     "metadata": {},
     "output_type": "execute_result"
    },
    {
     "data": {
      "image/png": "[encoded data removed]",
      "text/plain": [
       "<Figure size 432x288 with 1 Axes>"
      ]
     },
     "metadata": {
      "needs_background": "light"
     },
     "output_type": "display_data"
    }
   ],
   "source": [
    "n = len(train_rel_l2_losses)\n",
    "plt.plot(np.arange(n), train_rel_l2_losses, label=r\"Training rel. $L_2$ loss\")\n",
    "plt.plot(np.arange(n), test_rel_l2_losses, label=r\"Test rel. $L_2$ loss\")\n",
    "plt.semilogy(np.arange(n), test_l2_losses, label=r\"Test $L_2$ loss\")\n",
    "plt.legend()"
   ]
  },
  {
   "cell_type": "code",
   "execution_count": 29,
   "metadata": {},
   "outputs": [
    {
     "data": {
      "text/plain": [
       "2001"
      ]
     },
     "execution_count": 29,
     "metadata": {},
     "output_type": "execute_result"
    }
   ],
   "source": [
    "n"
   ]
  },
  {
   "cell_type": "code",
   "execution_count": null,
   "metadata": {},
   "outputs": [],
   "source": []
  }
 ],
 "metadata": {
  "kernelspec": {
   "display_name": "Python (qg)",
   "language": "python",
   "name": "qg"
  },
  "language_info": {
   "codemirror_mode": {
    "name": "ipython",
    "version": 3
   },
   "file_extension": ".py",
   "mimetype": "text/x-python",
   "name": "python",
   "nbconvert_exporter": "python",
   "pygments_lexer": "ipython3",
   "version": "3.7.11"
  }
 },
 "nbformat": 4,
 "nbformat_minor": 4
}
