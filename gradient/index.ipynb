{
 "cells": [
  {
   "cell_type": "code",
   "execution_count": 19,
   "metadata": {},
   "outputs": [
    {
     "name": "stdout",
     "output_type": "stream",
     "text": [
      "tensor([[[ 0,  1,  2],\n",
      "         [ 3,  4,  5],\n",
      "         [ 6,  7,  8],\n",
      "         [ 9, 10, 11],\n",
      "         [12, 13, 14]],\n",
      "\n",
      "        [[15, 16, 17],\n",
      "         [18, 19, 20],\n",
      "         [21, 22, 23],\n",
      "         [24, 25, 26],\n",
      "         [27, 28, 29]]])\n"
     ]
    }
   ],
   "source": [
    "import torch\n",
    "\n",
    "batchsize=2\n",
    "nnodes=5\n",
    "channels=3\n",
    "\n",
    "nodes=torch.arange(batchsize*nnodes*channels).reshape(batchsize,nnodes,channels)\n",
    "print(nodes)"
   ]
  },
  {
   "cell_type": "code",
   "execution_count": 20,
   "metadata": {},
   "outputs": [
    {
     "name": "stdout",
     "output_type": "stream",
     "text": [
      "tensor([[[ 3,  4,  5],\n",
      "         [ 6,  7,  8]],\n",
      "\n",
      "        [[15, 16, 17],\n",
      "         [18, 19, 20]]])\n"
     ]
    }
   ],
   "source": [
    "print(nodes[[[0],[1]],[[1,2],[0,1]],:])"
   ]
  }
 ],
 "metadata": {
  "kernelspec": {
   "display_name": "PyTorch",
   "language": "python",
   "name": "python3"
  },
  "language_info": {
   "codemirror_mode": {
    "name": "ipython",
    "version": 3
   },
   "file_extension": ".py",
   "mimetype": "text/x-python",
   "name": "python",
   "nbconvert_exporter": "python",
   "pygments_lexer": "ipython3",
   "version": "3.12.7"
  }
 },
 "nbformat": 4,
 "nbformat_minor": 2
}
