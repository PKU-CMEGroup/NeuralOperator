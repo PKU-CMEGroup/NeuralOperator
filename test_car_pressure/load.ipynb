{
 "cells": [
  {
   "cell_type": "code",
   "execution_count": 4,
   "metadata": {},
   "outputs": [
    {
     "name": "stdout",
     "output_type": "stream",
     "text": [
      "(3682,)\n",
      "(3586, 3)\n",
      "(7168, 3)\n"
     ]
    }
   ],
   "source": [
    "from typing import List, Tuple, Union, Optional\n",
    "from collections.abc import Callable\n",
    "import warnings\n",
    "import open3d as o3d\n",
    "import numpy as np\n",
    "from pathlib import Path\n",
    "import unittest\n",
    "import copy\n",
    "\n",
    "import torch\n",
    "from torch.utils.data import DataLoader, Dataset\n",
    "\n",
    "# for i in range(1,100):\n",
    "index = 13\n",
    "press_path = f'../data/car_pressure/data/press/press_{str(index).zfill(3)}.npy'\n",
    "press = np.load(press_path)\n",
    "# print(i)\n",
    "print(press.shape)\n",
    "\n",
    "mesh_path = f'../data/car_pressure/data/mesh/mesh_{str(index).zfill(3)}.ply'\n",
    "\n",
    "mesh = o3d.io.read_triangle_mesh(str(mesh_path))\n",
    "\n",
    "# mesh.compute_vertex_normals()\n",
    "vertices = np.asarray(mesh.vertices)\n",
    "triangles = np.asarray(mesh.triangles)\n",
    "# normals = np.asarray(mesh.vertex_normals)\n",
    "print(vertices.shape)\n",
    "print(triangles.shape)\n",
    "# print(normals.shape)\n",
    "# print(press)"
   ]
  },
  {
   "cell_type": "code",
   "execution_count": 5,
   "metadata": {},
   "outputs": [],
   "source": [
    "from mayavi import mlab\n",
    "# 使用Mayavi绘制3D散点图\n",
    "\n",
    "\n",
    "x,y,z = vertices.transpose()\n",
    "\n",
    "src = mlab.triangular_mesh(x,y,z, triangles,\n",
    "                           representation='wireframe')  # wireframe模式显示网格线\n",
    "\n",
    "lines = mlab.pipeline.extract_edges(src)\n",
    "tubes = mlab.pipeline.tube(lines, tube_radius=0.005)  # 调整 tube_radius 来改变宽度\n",
    "mlab.pipeline.surface(tubes, color=(0, 1, 0))\n",
    "\n",
    "\n",
    "# 设置视图\n",
    "mlab.view(azimuth=180, elevation=70, focalpoint=[0, 0, 0],\n",
    "          distance=10, roll=90)\n",
    "\n",
    "# 显示图形\n",
    "mlab.show()"
   ]
  },
  {
   "cell_type": "code",
   "execution_count": 6,
   "metadata": {},
   "outputs": [],
   "source": [
    "fig = mlab.figure(size=(2000,2000), bgcolor=(1, 1, 1))\n",
    "mlab.view(azimuth=180, elevation=70, focalpoint=[0, 0, 0],\n",
    "          distance=10, roll=90)\n",
    "press_to_show = np.concatenate((press[0:16], press[112:]), axis=0)\n",
    "press_to_show = 50*press_to_show/np.linalg.norm(press_to_show)\n",
    "# press_to_show = 100*press/np.linalg.norm(press)\n",
    "# print(press_to_show.shape)\n",
    "mlab.points3d(x, y, z, press_to_show, color=(0, 1, 0), mode='sphere', scale_factor=0.075, figure=fig)\n",
    "# 显示图形\n",
    "mlab.show()"
   ]
  },
  {
   "cell_type": "code",
   "execution_count": 8,
   "metadata": {},
   "outputs": [
    {
     "name": "stdout",
     "output_type": "stream",
     "text": [
      "c:\\Users\\15461\\.conda\\envs\\pytorch\\lib\\site-packages\\torch\\__init__.py\n"
     ]
    }
   ],
   "source": [
    "import torch\n",
    "\n",
    "print(torch.__file__)"
   ]
  }
 ],
 "metadata": {
  "kernelspec": {
   "display_name": "pytorch",
   "language": "python",
   "name": "python3"
  },
  "language_info": {
   "codemirror_mode": {
    "name": "ipython",
    "version": 3
   },
   "file_extension": ".py",
   "mimetype": "text/x-python",
   "name": "python",
   "nbconvert_exporter": "python",
   "pygments_lexer": "ipython3",
   "version": "3.10.14"
  }
 },
 "nbformat": 4,
 "nbformat_minor": 2
}
