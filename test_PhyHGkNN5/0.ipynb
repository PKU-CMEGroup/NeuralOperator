{
 "cells": [
  {
   "cell_type": "code",
   "execution_count": 11,
   "metadata": {},
   "outputs": [],
   "source": [
    "import torch\n",
    "import numpy as np\n",
    "import math\n",
    "# x = torch.arange(-7, 8) \n",
    "# y = torch.arange(-7, 8) \n",
    "# X, Y = torch.meshgrid(x, y)\n",
    "# baseweight_Fourier = 2*np.pi*torch.stack((X.flatten(), Y.flatten()), dim=1)\n",
    "# torch.save(baseweight_Fourier, 'para/darcy/uniform_Fourier_225.pt')\n",
    "# Fourier_para_path = 'para/airfoil/base_Fourier225.pt'\n",
    "# Fourier_weight_list = torch.load(Fourier_para_path)\n",
    "# Fourier_weight,a = Fourier_weight_list\n",
    "# torch.save(Fourier_weight,'para/airfoil/base_Fourier225[0].pt')\n",
    "def uniform_points(range_pts,num_pts,dim):\n",
    "    a = round(math.pow(num_pts, 1 / dim))\n",
    "    index_tensors = []\n",
    "    for k in range(dim):\n",
    "        xmin,xmax = range_pts[k][0],range_pts[k][1]\n",
    "        idx = xmin + (xmax-xmin)*torch.arange(a).float().add(0.5).div(a)\n",
    "        idx = idx.view((1,) * k+ (-1,) + (1,) * (dim - k - 1))\n",
    "        index_tensors.append(idx.expand(a, *([a] * (dim - 1))))\n",
    "    num_pts1 = int(torch.pow(torch.tensor(a),dim))\n",
    "    x = torch.stack(index_tensors, dim=dim).reshape(num_pts1,dim)\n",
    "    return x\n",
    "computetype = 'Gauss'\n",
    "if computetype =='Gauss':\n",
    "    basepts = uniform_points([[0,1]],50,1)\n",
    "    baseweight = 5000*torch.ones(50,1)\n",
    "    # # print(basepts)\n",
    "    torch.save([basepts,baseweight],'para/advection/Gauss50_5000_uniform.pt')\n",
    "\n",
    "elif computetype == 'Fourier':\n",
    "    Fourier_weight = torch.arange(-32,33).unsqueeze(-1)*2*math.pi\n",
    "    torch.save(Fourier_weight,'para/advection/Fourier65_uniform.pt')\n",
    "\n",
    "elif computetype == 'Morlet':\n",
    "    n = 10\n",
    "    m = 30\n",
    "    w = 10\n",
    "    basepts = uniform_points([[0,1]],n,1)\n",
    "    baseweight = w*torch.ones(n,1)\n",
    "    basepts_Morlet = basepts.repeat(2*m+1,1)\n",
    "    baseweight_Morlet =baseweight.repeat(2*m+1,1) \n",
    "    # basefrq = torch.arange(-m,m+1).unsqueeze(-1)*math.sqrt(100)\n",
    "    basefrq = torch.arange(-m,m+1).unsqueeze(-1)*math.sqrt(w)\n",
    "    basefrq_Morlet = basefrq.repeat_interleave(n,0)\n",
    "    # print(basepts_Morlet.shape,basepts_Morlet)\n",
    "    # print('\\n')\n",
    "    # print(basefrq_Morlet.shape,basefrq_Morlet)\n",
    "    torch.save([basepts_Morlet,baseweight_Morlet,basefrq_Morlet],f'para/advection/Morlet_pts{n}_freq{2*m+1}_uniform.pt')\n",
    "    print(f'para/advection/Morlet_pts{n}_freq{2*m+1}_uniform.pt')"
   ]
  }
 ],
 "metadata": {
  "kernelspec": {
   "display_name": "pytorch",
   "language": "python",
   "name": "python3"
  },
  "language_info": {
   "codemirror_mode": {
    "name": "ipython",
    "version": 3
   },
   "file_extension": ".py",
   "mimetype": "text/x-python",
   "name": "python",
   "nbconvert_exporter": "python",
   "pygments_lexer": "ipython3",
   "version": "3.10.14"
  }
 },
 "nbformat": 4,
 "nbformat_minor": 2
}
