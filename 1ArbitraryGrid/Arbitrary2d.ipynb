{
 "cells": [
  {
   "cell_type": "markdown",
   "metadata": {},
   "source": [
    "# GkNN for 2d Arbitrary Grid"
   ]
  },
  {
   "cell_type": "code",
   "execution_count": 3,
   "metadata": {},
   "outputs": [],
   "source": [
    "import random\n",
    "import torch\n",
    "import sys\n",
    "import numpy as np\n",
    "import math\n",
    "import matplotlib.pyplot as plt\n",
    "from timeit import default_timer\n",
    "from scipy.io import loadmat\n",
    "import yaml\n",
    "import os\n",
    "\n",
    "sys.path.append(\"../\")\n",
    "\n",
    "from models import  FNN_train, compute_2dFourier_bases, compute_2dpca_bases\n",
    "from models.Galerkin import GkNN\n",
    "\n",
    "\n",
    "torch.set_printoptions(precision=16)\n",
    "\n",
    "\n",
    "torch.manual_seed(0)\n",
    "np.random.seed(0)"
   ]
  },
  {
   "cell_type": "markdown",
   "metadata": {},
   "source": [
    "## Data Loading"
   ]
  },
  {
   "cell_type": "code",
   "execution_count": 5,
   "metadata": {},
   "outputs": [
    {
     "name": "stdout",
     "output_type": "stream",
     "text": [
      "data_in.shape: (1024, 421, 421)\n",
      "data_out.shape (1024, 421, 421)\n"
     ]
    },
    {
     "ename": "NameError",
     "evalue": "name 'L' is not defined",
     "output_type": "error",
     "traceback": [
      "\u001b[0;31m---------------------------------------------------------------------------\u001b[0m",
      "\u001b[0;31mNameError\u001b[0m                                 Traceback (most recent call last)",
      "Cell \u001b[0;32mIn[5], line 10\u001b[0m\n\u001b[1;32m      7\u001b[0m \u001b[38;5;28mprint\u001b[39m(\u001b[38;5;124m\"\u001b[39m\u001b[38;5;124mdata_out.shape\u001b[39m\u001b[38;5;124m\"\u001b[39m, data_out\u001b[38;5;241m.\u001b[39mshape)\n\u001b[1;32m      9\u001b[0m Np_ref \u001b[38;5;241m=\u001b[39m data_in\u001b[38;5;241m.\u001b[39mshape[\u001b[38;5;241m1\u001b[39m]\n\u001b[0;32m---> 10\u001b[0m grid_1d \u001b[38;5;241m=\u001b[39m np\u001b[38;5;241m.\u001b[39mlinspace(\u001b[38;5;241m0\u001b[39m, \u001b[43mL\u001b[49m, Np_ref)\n\u001b[1;32m     11\u001b[0m grid_x, grid_y \u001b[38;5;241m=\u001b[39m np\u001b[38;5;241m.\u001b[39mmeshgrid(grid_1d, grid_1d)\n\u001b[1;32m     13\u001b[0m \u001b[38;5;66;03m# data_in_ds = data_in[0:n_train, 0::downsample_ratio, 0::downsample_ratio]\u001b[39;00m\n\u001b[1;32m     14\u001b[0m \u001b[38;5;66;03m# grid_x_ds = grid_x[0::downsample_ratio, 0::downsample_ratio]\u001b[39;00m\n\u001b[1;32m     15\u001b[0m \u001b[38;5;66;03m# grid_y_ds = grid_y[0::downsample_ratio, 0::downsample_ratio]\u001b[39;00m\n\u001b[1;32m     16\u001b[0m \u001b[38;5;66;03m# data_out_ds = data_out[0:n_train, 0::downsample_ratio, 0::downsample_ratio]\u001b[39;00m\n",
      "\u001b[0;31mNameError\u001b[0m: name 'L' is not defined"
     ]
    }
   ],
   "source": [
    "data_path = \"../data/darcy_2d/piececonst_r421_N1024_smooth1\"\n",
    "data = loadmat(data_path)\n",
    "data_in = data[\"coeff\"]\n",
    "data_out = data[\"sol\"]\n",
    "\n",
    "\n",
    "L = 0\n",
    "subrate = 4\n",
    "gridsize = 421\n",
    "s=gridsize //subrate\n",
    "\n",
    "grid_1d_x = np.linspace(0, L, gridsize)\n",
    "np.random.seed(1)\n",
    "index_selected_x = np.random.choice(range(gridsize), s, replace=False)\n",
    "\n",
    "index_selected_x.sort()\n",
    "index_selected_x[0], index_selected_x[s - 1] = 0, gridsize - 1\n",
    "grid = torch.tensor(index_selected_x) / gridsize\n",
    "print(\"points selected for x axis:\", s)\n",
    "print(\"index selected for x axis:\\n\", index_selected_x)\n",
    "grid_x, grid_y = np.meshgrid(grid_1d, grid_1d)\n",
    "\n",
    "# data_in_ds = data_in[0:n_train, 0::downsample_ratio, 0::downsample_ratio]\n",
    "# grid_x_ds = grid_x[0::downsample_ratio, 0::downsample_ratio]\n",
    "# grid_y_ds = grid_y[0::downsample_ratio, 0::downsample_ratio]\n",
    "# data_out_ds = data_out[0:n_train, 0::downsample_ratio, 0::downsample_ratio]"
   ]
  }
 ],
 "metadata": {
  "kernelspec": {
   "display_name": "PyTorch",
   "language": "python",
   "name": "python3"
  },
  "language_info": {
   "codemirror_mode": {
    "name": "ipython",
    "version": 3
   },
   "file_extension": ".py",
   "mimetype": "text/x-python",
   "name": "python",
   "nbconvert_exporter": "python",
   "pygments_lexer": "ipython3",
   "version": "3.12.3"
  }
 },
 "nbformat": 4,
 "nbformat_minor": 2
}
