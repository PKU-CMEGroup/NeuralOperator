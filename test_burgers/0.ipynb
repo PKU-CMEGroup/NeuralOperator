{
 "cells": [
  {
   "cell_type": "code",
   "execution_count": 2,
   "metadata": {},
   "outputs": [
    {
     "name": "stdout",
     "output_type": "stream",
     "text": [
      "['k = 0e+00', 0.09917405068874359, 0.06100240725278854, 0.010697775825858116, 0.007931990459561347, 0.011449184864759446, 0.06216643130779266, 0.10231536412239074, 'k = 1e+02', 0.06338245809078216, 0.044957362830638885, 0.04017915034294128, 0.04405929684638977, 0.04256822806596756, 0.026883585661649705, 0.021418147951364517]\n"
     ]
    }
   ],
   "source": [
    "input_str = input().split()\n",
    "# print(input_str)\n",
    "n = len(input_str)\n",
    "rel_test_loss=[]\n",
    "for i in range(n):\n",
    "    if input_str[i]=='Rel.' and i>1 and input_str[i-1]!='512':\n",
    "        rel_test_loss.append(float(input_str[i+5]))\n",
    "    if input_str[i]=='train_k:':\n",
    "        rel_test_loss.append('k = ' + input_str[i+1])\n",
    "print(rel_test_loss)"
   ]
  }
 ],
 "metadata": {
  "kernelspec": {
   "display_name": "pytorch",
   "language": "python",
   "name": "python3"
  },
  "language_info": {
   "codemirror_mode": {
    "name": "ipython",
    "version": 3
   },
   "file_extension": ".py",
   "mimetype": "text/x-python",
   "name": "python",
   "nbconvert_exporter": "python",
   "pygments_lexer": "ipython3",
   "version": "3.10.14"
  }
 },
 "nbformat": 4,
 "nbformat_minor": 2
}
