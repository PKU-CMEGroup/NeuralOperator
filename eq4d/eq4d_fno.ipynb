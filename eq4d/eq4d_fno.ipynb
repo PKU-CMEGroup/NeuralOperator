{
 "cells": [
  {
   "cell_type": "code",
   "execution_count": 1,
   "metadata": {},
   "outputs": [],
   "source": [
    "import random\n",
    "import torch\n",
    "import sys\n",
    "import numpy as np\n",
    "import math\n",
    "import matplotlib.pyplot as plt\n",
    "from timeit import default_timer\n",
    "\n",
    "sys.path.append('../')\n",
    "from models import FNN3d, FNN_train\n"
   ]
  },
  {
   "cell_type": "markdown",
   "metadata": {},
   "source": [
    "# Unit test with f -> 2f"
   ]
  },
  {
   "cell_type": "code",
   "execution_count": 2,
   "metadata": {},
   "outputs": [],
   "source": [
    "torch.manual_seed(0)\n",
    "np.random.seed(0)\n",
    "\n",
    "n_data = 2048\n",
    "Lx, Ly, Lz, Lt = 2*np.pi, 2*np.pi, 2*np.pi, 1.0\n",
    "nx, ny, nz, nt = 8, 16, 32, 64\n",
    "input_u = np.random.normal(0, 1, (n_data, nx, ny, nz, nt))\n",
    "output_u = 2.0*input_u \n",
    "\n",
    "grid = np.zeros((nx, ny, nz, nt, 4))\n",
    "grid_x, grid_y, grid_z, grid_t = np.linspace(0, Lx, nx), np.linspace(0, Ly, ny), np.linspace(0, Lz, nz), np.linspace(0, Lt, nt)\n",
    "grid[:,:,:,:,0], grid[:,:,:,:,1], grid[:,:,:,:,2], grid[:,:,:,:,3] = np.swapaxes(np.meshgrid(grid_x, grid_y, grid_z, grid_t), 1, 2)\n",
    "                        "
   ]
  },
  {
   "cell_type": "code",
   "execution_count": 3,
   "metadata": {},
   "outputs": [],
   "source": [
    "downsample_ratio = 1\n",
    "\n",
    "L, Ne_ref = 1.0, 2**12\n",
    "Ne = Ne_ref//downsample_ratio\n",
    "\n",
    "n_train = n_test = 2**10\n",
    "x_train = torch.from_numpy(np.concatenate((input_u[0:n_train, 0::downsample_ratio, 0::downsample_ratio, 0::downsample_ratio, 0::downsample_ratio, np.newaxis], np.tile(grid, (n_train,1,1,1,1,1))), axis=-1).astype(np.float32))\n",
    "y_train = torch.from_numpy(output_u[0:n_train, 0::downsample_ratio, 0::downsample_ratio, 0::downsample_ratio, 0::downsample_ratio, np.newaxis].astype(np.float32))\n",
    "# x_train, y_train are [n_data, n_x, n_channel] arrays\n",
    "x_test = torch.from_numpy(np.concatenate((input_u[-n_test:, 0::downsample_ratio, 0::downsample_ratio, 0::downsample_ratio, 0::downsample_ratio, np.newaxis], np.tile(grid, (n_test,1,1,1,1,1))), axis=-1).astype(np.float32))\n",
    "y_test = torch.from_numpy(output_u[-n_test:, 0::downsample_ratio, 0::downsample_ratio, 0::downsample_ratio, 0::downsample_ratio, np.newaxis].astype(np.float32))\n",
    "# x_test, y_test are [n_data, n_x, n_channel] arrays\n",
    "\n",
    "\n",
    "n_fno_layers = 3\n",
    "k_max = 8\n",
    "d_f = 32\n",
    "# fourier k_max\n",
    "modes = [k_max] * n_fno_layers\n",
    "# channel d_f\n",
    "layers = [d_f] * (n_fno_layers + 1)\n",
    "fc_dim = d_f\n",
    "in_dim = 1+4\n",
    "out_dim = 1\n",
    "act = \"gelu\"\n",
    "\n",
    "base_lr = 0.001\n",
    "epochs = 1000\n",
    "# scheduler = \"CosineAnnealingLR\"\n",
    "weight_decay = 1e-4\n",
    "\n",
    "scheduler = \"MultiStepLR\"\n",
    "\n",
    "pad_ratio = 0.05\n",
    "\n",
    "milestones = [200, 300, 400, 500, 800,900]\n",
    "scheduler_gamma = 0.5\n",
    "batch_size=2\n",
    "normalization_x = True\n",
    "normalization_y = True\n",
    "normalization_dim = []\n",
    "\n",
    "\n",
    "config = {\"model\" : {\"modes\": modes, \"fc_dim\": fc_dim, \"layers\": layers, \"in_dim\": in_dim, \"out_dim\":out_dim, \"act\": act, \"pad_ratio\":pad_ratio},\n",
    "          \"train\" : {\"base_lr\": base_lr, \"weight_decay\": weight_decay, \"epochs\": epochs, \"scheduler\": scheduler, \"milestones\": milestones, \"scheduler_gamma\": scheduler_gamma, \"batch_size\": batch_size, \n",
    "                    \"normalization_x\": normalization_x,\"normalization_y\": normalization_y, \"normalization_dim\": normalization_dim}}\n",
    "\n",
    "\n"
   ]
  },
  {
   "cell_type": "code",
   "execution_count": null,
   "metadata": {},
   "outputs": [
    {
     "name": "stdout",
     "output_type": "stream",
     "text": [
      "Epoch :  0  Rel. Train L2 Loss :  0.09282728047037381  Rel. Test L2 Loss :  0.022883910736709367  Test L2 Loss :  0.04576989990164293\n"
     ]
    }
   ],
   "source": [
    "start = default_timer()\n",
    "train_rel_l2_losses, test_rel_l2_losses, test_l2_losses, cost = FNN_train(x_train, y_train, x_test, y_test, config, save_model_name=\"models/test_FNO\")\n",
    "end = default_timer()\n",
    "print(\"epochs = \", epochs, \"elapsed time = \", end - start)"
   ]
  },
  {
   "cell_type": "code",
   "execution_count": null,
   "metadata": {},
   "outputs": [],
   "source": []
  }
 ],
 "metadata": {
  "kernelspec": {
   "display_name": "Python (qg)",
   "language": "python",
   "name": "qg"
  },
  "language_info": {
   "codemirror_mode": {
    "name": "ipython",
    "version": 3
   },
   "file_extension": ".py",
   "mimetype": "text/x-python",
   "name": "python",
   "nbconvert_exporter": "python",
   "pygments_lexer": "ipython3",
   "version": "3.7.11"
  }
 },
 "nbformat": 4,
 "nbformat_minor": 4
}
