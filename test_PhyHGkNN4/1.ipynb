{
 "cells": [
  {
   "cell_type": "code",
   "execution_count": 9,
   "metadata": {},
   "outputs": [
    {
     "name": "stdout",
     "output_type": "stream",
     "text": [
      "[[1 0 1 0]\n",
      " [0 1 0 1]\n",
      " [1 0 1 0]\n",
      " [0 1 0 1]]\n"
     ]
    }
   ],
   "source": [
    "import numpy as np\n",
    "from scipy.linalg import block_diag\n",
    "def create_mask(k1, k2):\n",
    "    E = np.eye(k1).astype(int)\n",
    "    E1 = np.block([\n",
    "        [E, E],\n",
    "        [E, E]  \n",
    "    ])\n",
    "    E2 = np.eye(k2).astype(int)\n",
    "    mask = block_diag(E1,E2)\n",
    "    return mask\n",
    "\n",
    "print(create_mask(2,0))\n"
   ]
  },
  {
   "cell_type": "code",
   "execution_count": 1,
   "metadata": {},
   "outputs": [
    {
     "name": "stdout",
     "output_type": "stream",
     "text": [
      "tensor([[0.1531, 0.4542, 0.2425, 0.5993, 0.0671, 0.4777, 0.8579, 0.3710],\n",
      "        [0.2680, 0.4737, 0.9027, 0.2476, 0.6774, 0.9706, 0.3789, 0.7048],\n",
      "        [0.0685, 0.0169, 0.4178, 0.4742, 0.7594, 0.4330, 0.6445, 0.3456],\n",
      "        [0.0143, 0.0455, 0.9535, 0.9219, 0.6105, 0.1114, 0.6109, 0.4713],\n",
      "        [0.2935, 0.0258, 0.9746, 0.7483, 0.2390, 0.5372, 0.3905, 0.6355],\n",
      "        [0.4178, 0.9959, 0.9886, 0.5219, 0.4113, 0.5797, 0.1770, 0.7782],\n",
      "        [0.6079, 0.5766, 0.0838, 0.5740, 0.1020, 0.5347, 0.8533, 0.6206]])\n",
      "tensor([[0.2680, 0.4737, 0.9027, 0.2476, 0.6774, 0.9706, 0.3789, 0.7048],\n",
      "        [0.0685, 0.0169, 0.4178, 0.4742, 0.7594, 0.4330, 0.6445, 0.3456],\n",
      "        [0.0143, 0.0455, 0.9535, 0.9219, 0.6105, 0.1114, 0.6109, 0.4713],\n",
      "        [0.2935, 0.0258, 0.9746, 0.7483, 0.2390, 0.5372, 0.3905, 0.6355]])\n"
     ]
    }
   ],
   "source": [
    "import torch\n",
    "index = [1,2,3,4]\n",
    "x = torch.rand(7,8)\n",
    "y = x[index,:]\n",
    "print(x)\n",
    "print(y)"
   ]
  }
 ],
 "metadata": {
  "kernelspec": {
   "display_name": "pytorch",
   "language": "python",
   "name": "python3"
  },
  "language_info": {
   "codemirror_mode": {
    "name": "ipython",
    "version": 3
   },
   "file_extension": ".py",
   "mimetype": "text/x-python",
   "name": "python",
   "nbconvert_exporter": "python",
   "pygments_lexer": "ipython3",
   "version": "3.10.14"
  }
 },
 "nbformat": 4,
 "nbformat_minor": 2
}
